{
 "cells": [
  {
   "cell_type": "code",
   "execution_count": 2,
   "id": "202405ee",
   "metadata": {},
   "outputs": [],
   "source": [
    "import pandas as pd\n",
    "import numpy as np\n",
    "import networkx as nx\n",
    "import matplotlib.pyplot as plt\n",
    "import scipy"
   ]
  },
  {
   "cell_type": "markdown",
   "id": "9e8ed397",
   "metadata": {},
   "source": [
    "# Import Data"
   ]
  },
  {
   "cell_type": "code",
   "execution_count": 2,
   "id": "54f76701",
   "metadata": {},
   "outputs": [
    {
     "data": {
      "text/plain": [
       "(506386, 12)"
      ]
     },
     "execution_count": 2,
     "metadata": {},
     "output_type": "execute_result"
    }
   ],
   "source": [
    "df = pd.read_csv('D:/1 kuliah/0 SKRIPSI/data/data_agama.csv', low_memory=False)\n",
    "df.shape"
   ]
  },
  {
   "cell_type": "markdown",
   "id": "fa81f7c7",
   "metadata": {},
   "source": [
    "# Preprocessing"
   ]
  },
  {
   "cell_type": "code",
   "execution_count": 3,
   "id": "fcdc7a0c",
   "metadata": {},
   "outputs": [
    {
     "data": {
      "text/plain": [
       "tweetID           428\n",
       "screen_name       498\n",
       "nretweets      208952\n",
       "nlikes         208952\n",
       "nreplies       208952\n",
       "tweet             105\n",
       "lat            478200\n",
       "lon            478200\n",
       "location       465877\n",
       "address        440903\n",
       "isretweet       47542\n",
       "created_at      56247\n",
       "dtype: int64"
      ]
     },
     "execution_count": 3,
     "metadata": {},
     "output_type": "execute_result"
    }
   ],
   "source": [
    "df.isna().sum()"
   ]
  },
  {
   "cell_type": "code",
   "execution_count": 4,
   "id": "6e49be81",
   "metadata": {},
   "outputs": [
    {
     "data": {
      "text/plain": [
       "tweetID             0\n",
       "screen_name         0\n",
       "nretweets      208450\n",
       "nlikes         208450\n",
       "nreplies       208450\n",
       "tweet               0\n",
       "lat            477698\n",
       "lon            477698\n",
       "location       465375\n",
       "address        440401\n",
       "isretweet       47040\n",
       "created_at      55745\n",
       "dtype: int64"
      ]
     },
     "execution_count": 4,
     "metadata": {},
     "output_type": "execute_result"
    }
   ],
   "source": [
    "df = df.dropna(subset=['screen_name', 'tweet'])\n",
    "df.isna().sum()"
   ]
  },
  {
   "cell_type": "code",
   "execution_count": 5,
   "id": "fa0d0d3a",
   "metadata": {},
   "outputs": [
    {
     "data": {
      "text/plain": [
       "tweetID         object\n",
       "screen_name     object\n",
       "nretweets      float64\n",
       "nlikes         float64\n",
       "nreplies       float64\n",
       "tweet           object\n",
       "lat            float64\n",
       "lon            float64\n",
       "location        object\n",
       "address         object\n",
       "isretweet      float64\n",
       "created_at      object\n",
       "dtype: object"
      ]
     },
     "execution_count": 5,
     "metadata": {},
     "output_type": "execute_result"
    }
   ],
   "source": [
    "df.dtypes"
   ]
  },
  {
   "cell_type": "code",
   "execution_count": 6,
   "id": "af3bc10c",
   "metadata": {},
   "outputs": [
    {
     "data": {
      "text/plain": [
       "tweetID                object\n",
       "screen_name            object\n",
       "nretweets             float64\n",
       "nlikes                float64\n",
       "nreplies              float64\n",
       "tweet                  object\n",
       "lat                   float64\n",
       "lon                   float64\n",
       "location               object\n",
       "address                object\n",
       "isretweet             float64\n",
       "created_at     datetime64[ns]\n",
       "dtype: object"
      ]
     },
     "execution_count": 6,
     "metadata": {},
     "output_type": "execute_result"
    }
   ],
   "source": [
    "df['created_at'] = pd.to_datetime(df['created_at'])\n",
    "df.dtypes"
   ]
  },
  {
   "cell_type": "code",
   "execution_count": 7,
   "id": "1c864574",
   "metadata": {},
   "outputs": [],
   "source": [
    "df.to_csv('data_agama_clean.csv')"
   ]
  },
  {
   "cell_type": "markdown",
   "id": "3828d836",
   "metadata": {},
   "source": [
    "# Load Data setelah Preprocessing"
   ]
  },
  {
   "cell_type": "code",
   "execution_count": 3,
   "id": "d1f860ac",
   "metadata": {},
   "outputs": [
    {
     "data": {
      "text/plain": [
       "(505884, 13)"
      ]
     },
     "execution_count": 3,
     "metadata": {},
     "output_type": "execute_result"
    }
   ],
   "source": [
    "df = pd.read_csv('C:/Users/naila/0 SKRIPSI/data_agama_clean.csv', low_memory=False)\n",
    "df.shape"
   ]
  },
  {
   "cell_type": "code",
   "execution_count": 4,
   "id": "66abe04e",
   "metadata": {
    "scrolled": true
   },
   "outputs": [
    {
     "data": {
      "text/plain": [
       "Unnamed: 0              int64\n",
       "tweetID                object\n",
       "screen_name            object\n",
       "nretweets             float64\n",
       "nlikes                float64\n",
       "nreplies              float64\n",
       "tweet                  object\n",
       "lat                   float64\n",
       "lon                   float64\n",
       "location               object\n",
       "address                object\n",
       "isretweet             float64\n",
       "created_at     datetime64[ns]\n",
       "dtype: object"
      ]
     },
     "execution_count": 4,
     "metadata": {},
     "output_type": "execute_result"
    }
   ],
   "source": [
    "df['created_at'] = pd.to_datetime(df['created_at'])\n",
    "df.dtypes"
   ]
  },
  {
   "cell_type": "markdown",
   "id": "1501f27c",
   "metadata": {},
   "source": [
    "# Slice setiap tahun"
   ]
  },
  {
   "cell_type": "code",
   "execution_count": 5,
   "id": "ba8c53c9",
   "metadata": {},
   "outputs": [],
   "source": [
    "data_2009 = df[df['created_at'].dt.year == 2009]\n",
    "data_2010 = df[df['created_at'].dt.year == 2010]\n",
    "data_2011 = df[df['created_at'].dt.year == 2011]\n",
    "data_2012 = df[df['created_at'].dt.year == 2012]\n",
    "data_2013 = df[df['created_at'].dt.year == 2013]\n",
    "data_2014 = df[df['created_at'].dt.year == 2014]\n",
    "data_2015 = df[df['created_at'].dt.year == 2015]\n",
    "data_2016 = df[df['created_at'].dt.year == 2016]\n",
    "data_2017 = df[df['created_at'].dt.year == 2017]\n",
    "data_2018 = df[df['created_at'].dt.year == 2018]\n",
    "data_2019 = df[df['created_at'].dt.year == 2019]"
   ]
  },
  {
   "cell_type": "code",
   "execution_count": 6,
   "id": "936a842e",
   "metadata": {},
   "outputs": [
    {
     "name": "stdout",
     "output_type": "stream",
     "text": [
      "(4058, 13) (20380, 13) (49107, 13) (73436, 13) (78468, 13) (79930, 13) (55425, 13) (34091, 13) (32450, 13) (18777, 13) (4014, 13)\n"
     ]
    }
   ],
   "source": [
    "print(data_2009.shape, data_2010.shape, data_2011.shape, data_2012.shape, data_2013.shape, data_2014.shape,\n",
    "      data_2015.shape, data_2016.shape, data_2017.shape, data_2018.shape, data_2019.shape)"
   ]
  },
  {
   "cell_type": "markdown",
   "id": "6d923532",
   "metadata": {},
   "source": [
    "# Graf"
   ]
  },
  {
   "cell_type": "code",
   "execution_count": 7,
   "id": "7474e0f5",
   "metadata": {},
   "outputs": [],
   "source": [
    "import re\n",
    "\n",
    "def extract_mentions(tweet_text):\n",
    "    mentions = [re.sub(r'[@~`!#$%^&*-+=\\\\\\|\"/.,:;]', '', word) for word in tweet_text.split() if word.startswith('@')]\n",
    "    return mentions"
   ]
  },
  {
   "cell_type": "markdown",
   "id": "08561463",
   "metadata": {},
   "source": [
    "## Graf Setiap Tahun (Directed)"
   ]
  },
  {
   "cell_type": "code",
   "execution_count": 8,
   "id": "95c2d060",
   "metadata": {},
   "outputs": [],
   "source": [
    "# Membuat 10 objek graf, masing-masing untuk tahun 2009-2019\n",
    "graphs_by_year = {}\n",
    "for year in range(2009, 2020):\n",
    "    graphs_by_year[year] = nx.DiGraph()\n",
    "\n",
    "# Menambahkan tautan (edge) berdasarkan mention user dalam tweet untuk setiap tahun\n",
    "for _, row in df.iterrows():\n",
    "    tweet_text = row['tweet']\n",
    "    mentions = extract_mentions(tweet_text)\n",
    "    \n",
    "    # Cek apakah nilai tahun tidak kosong (NaN)\n",
    "    if pd.notna(row['created_at']):\n",
    "        year = row['created_at'].year\n",
    "        # Menambahkan nodes\n",
    "        for mention in mentions:\n",
    "            if mention:  # Memastikan mention tidak kosong (hanya akan menambahkan node dengan label yang valid)\n",
    "                graphs_by_year[year].add_node(row['screen_name'])\n",
    "                graphs_by_year[year].add_node(mention)\n",
    "                if mention != row['screen_name']:  # Memastikan tidak ada self-loop (misalnya @user menyebut dirinya sendiri)\n",
    "                    if graphs_by_year[year].has_edge(row['screen_name'], mention):\n",
    "                        # Jika edge sudah ada, tambahkan bobot (weight) sebesar 1\n",
    "                        graphs_by_year[year][row['screen_name']][mention]['weight'] += 1\n",
    "                    else:\n",
    "                        # Jika edge belum ada, buat edge baru dengan bobot (weight) 1\n",
    "                        graphs_by_year[year].add_edge(row['screen_name'], mention, weight=1)"
   ]
  },
  {
   "cell_type": "code",
   "execution_count": 9,
   "id": "14f0b191",
   "metadata": {},
   "outputs": [
    {
     "name": "stdout",
     "output_type": "stream",
     "text": [
      "Year 2009: Nodes=2476, Edges=1591\n",
      "Year 2010: Nodes=14407, Edges=10620\n",
      "Year 2011: Nodes=26516, Edges=20006\n",
      "Year 2012: Nodes=25850, Edges=19426\n",
      "Year 2013: Nodes=20773, Edges=16402\n",
      "Year 2014: Nodes=17908, Edges=15380\n",
      "Year 2015: Nodes=12124, Edges=11456\n",
      "Year 2016: Nodes=6410, Edges=6348\n",
      "Year 2017: Nodes=5186, Edges=5671\n",
      "Year 2018: Nodes=3914, Edges=4791\n",
      "Year 2019: Nodes=1032, Edges=1030\n"
     ]
    }
   ],
   "source": [
    "for year in range(2009, 2020):\n",
    "    graph = graphs_by_year[year]\n",
    "    num_nodes = graph.number_of_nodes()\n",
    "    num_edges = graph.number_of_edges()\n",
    "\n",
    "    node_df = pd.DataFrame(list(graph.nodes()), columns=['user'])\n",
    "    \n",
    "    print(f\"Year {year}: Nodes={num_nodes}, Edges={num_edges}\")"
   ]
  },
  {
   "cell_type": "markdown",
   "id": "f99d8b2f",
   "metadata": {},
   "source": [
    "# Katz Centrality (Directed)"
   ]
  },
  {
   "cell_type": "code",
   "execution_count": 10,
   "id": "097bd3a4",
   "metadata": {},
   "outputs": [],
   "source": [
    "# Kamus untuk menyimpan hasil sentralitas Katz Centrality untuk setiap tahun\n",
    "katz_centrality_by_year = {}\n",
    "\n",
    "# Loop untuk menghitung sentralitas Katz Centrality untuk setiap tahun dari 2009 hingga 2019\n",
    "for year, graph in graphs_by_year.items():\n",
    "    katz_centrality = nx.katz_centrality(graph, alpha=0.1, beta=1.0, max_iter=5000)\n",
    "    katz_centrality_by_year[year] = katz_centrality"
   ]
  },
  {
   "cell_type": "code",
   "execution_count": 11,
   "id": "dadc7409",
   "metadata": {},
   "outputs": [],
   "source": [
    "top_10_katz_centrality_by_year = pd.DataFrame()\n",
    "for year, katz_centrality in katz_centrality_by_year.items():\n",
    "    # Sort katz_centrality menjadi descending order dan ambil 10 user pertama\n",
    "    yearly = pd.DataFrame(list(katz_centrality_by_year[year].items()), columns=['Node', 'Katz Centrality'])\n",
    "    top_10 = yearly.sort_values(by='Katz Centrality', ascending=False).head(10).reset_index(drop=True)\n",
    "    top_10['Year'] = year\n",
    "    # Simpan hasilnya ke dalam list top_10_users_by_year\n",
    "    top_10_katz_centrality_by_year = pd.concat([top_10_katz_centrality_by_year, top_10])"
   ]
  },
  {
   "cell_type": "code",
   "execution_count": 12,
   "id": "3f7e963a",
   "metadata": {},
   "outputs": [],
   "source": [
    "top_30_katz_centrality_by_year = pd.DataFrame()\n",
    "for year, katz_centrality in katz_centrality_by_year.items():\n",
    "    # Sort katz_centrality menjadi descending order dan ambil 10 user pertama\n",
    "    yearly = pd.DataFrame(list(katz_centrality_by_year[year].items()), columns=['Node', 'Katz Centrality'])\n",
    "    top_30 = yearly.sort_values(by='Katz Centrality', ascending=False).head(30).reset_index(drop=True)\n",
    "    top_30['Year'] = year\n",
    "    # Simpan hasilnya ke dalam list top_10_users_by_year\n",
    "    top_30_katz_centrality_by_year = pd.concat([top_30_katz_centrality_by_year, top_30])"
   ]
  },
  {
   "cell_type": "code",
   "execution_count": 13,
   "id": "974cd43a",
   "metadata": {},
   "outputs": [
    {
     "data": {
      "text/html": [
       "<div>\n",
       "<style scoped>\n",
       "    .dataframe tbody tr th:only-of-type {\n",
       "        vertical-align: middle;\n",
       "    }\n",
       "\n",
       "    .dataframe tbody tr th {\n",
       "        vertical-align: top;\n",
       "    }\n",
       "\n",
       "    .dataframe thead th {\n",
       "        text-align: right;\n",
       "    }\n",
       "</style>\n",
       "<table border=\"1\" class=\"dataframe\">\n",
       "  <thead>\n",
       "    <tr style=\"text-align: right;\">\n",
       "      <th></th>\n",
       "      <th>Node</th>\n",
       "      <th>Katz Centrality</th>\n",
       "      <th>Year</th>\n",
       "    </tr>\n",
       "  </thead>\n",
       "  <tbody>\n",
       "    <tr>\n",
       "      <th>0</th>\n",
       "      <td>Metro_TV</td>\n",
       "      <td>0.037665</td>\n",
       "      <td>2009</td>\n",
       "    </tr>\n",
       "    <tr>\n",
       "      <th>1</th>\n",
       "      <td>tifsembiring</td>\n",
       "      <td>0.034087</td>\n",
       "      <td>2009</td>\n",
       "    </tr>\n",
       "    <tr>\n",
       "      <th>2</th>\n",
       "      <td>vincentrompies</td>\n",
       "      <td>0.032618</td>\n",
       "      <td>2009</td>\n",
       "    </tr>\n",
       "    <tr>\n",
       "      <th>3</th>\n",
       "      <td>addthis</td>\n",
       "      <td>0.030132</td>\n",
       "      <td>2009</td>\n",
       "    </tr>\n",
       "    <tr>\n",
       "      <th>4</th>\n",
       "      <td>radityadika</td>\n",
       "      <td>0.028625</td>\n",
       "      <td>2009</td>\n",
       "    </tr>\n",
       "    <tr>\n",
       "      <th>...</th>\n",
       "      <td>...</td>\n",
       "      <td>...</td>\n",
       "      <td>...</td>\n",
       "    </tr>\n",
       "    <tr>\n",
       "      <th>25</th>\n",
       "      <td>KoRnHurry</td>\n",
       "      <td>0.038483</td>\n",
       "      <td>2019</td>\n",
       "    </tr>\n",
       "    <tr>\n",
       "      <th>26</th>\n",
       "      <td>mohmahfudmd</td>\n",
       "      <td>0.038423</td>\n",
       "      <td>2019</td>\n",
       "    </tr>\n",
       "    <tr>\n",
       "      <th>27</th>\n",
       "      <td>PDemokrat</td>\n",
       "      <td>0.038183</td>\n",
       "      <td>2019</td>\n",
       "    </tr>\n",
       "    <tr>\n",
       "      <th>28</th>\n",
       "      <td>basuki_btp</td>\n",
       "      <td>0.038125</td>\n",
       "      <td>2019</td>\n",
       "    </tr>\n",
       "    <tr>\n",
       "      <th>29</th>\n",
       "      <td>Prabowo</td>\n",
       "      <td>0.038125</td>\n",
       "      <td>2019</td>\n",
       "    </tr>\n",
       "  </tbody>\n",
       "</table>\n",
       "<p>330 rows × 3 columns</p>\n",
       "</div>"
      ],
      "text/plain": [
       "              Node  Katz Centrality  Year\n",
       "0         Metro_TV         0.037665  2009\n",
       "1     tifsembiring         0.034087  2009\n",
       "2   vincentrompies         0.032618  2009\n",
       "3          addthis         0.030132  2009\n",
       "4      radityadika         0.028625  2009\n",
       "..             ...              ...   ...\n",
       "25       KoRnHurry         0.038483  2019\n",
       "26     mohmahfudmd         0.038423  2019\n",
       "27       PDemokrat         0.038183  2019\n",
       "28      basuki_btp         0.038125  2019\n",
       "29         Prabowo         0.038125  2019\n",
       "\n",
       "[330 rows x 3 columns]"
      ]
     },
     "execution_count": 13,
     "metadata": {},
     "output_type": "execute_result"
    }
   ],
   "source": [
    "top_30_katz_centrality_by_year"
   ]
  },
  {
   "cell_type": "code",
   "execution_count": 36,
   "id": "7bccdd72",
   "metadata": {},
   "outputs": [],
   "source": [
    "node_frequencies = top_30_katz_centrality_by_year['Node'].value_counts()\n",
    "top_nodes = node_frequencies.index[:5].tolist()"
   ]
  },
  {
   "cell_type": "code",
   "execution_count": 37,
   "id": "6f3763ba",
   "metadata": {},
   "outputs": [],
   "source": [
    "full_graph_katz = nx.DiGraph()\n",
    "for graph in graphs_by_year.values():\n",
    "    full_graph_katz = nx.compose(full_graph_katz, graph)"
   ]
  },
  {
   "cell_type": "code",
   "execution_count": 38,
   "id": "b785b290",
   "metadata": {},
   "outputs": [
    {
     "data": {
      "text/plain": [
       "['YouTube', 'Metro_TV', 'ulil', 'mohmahfudmd', 'KPK_RI']"
      ]
     },
     "execution_count": 38,
     "metadata": {},
     "output_type": "execute_result"
    }
   ],
   "source": [
    "top_nodes"
   ]
  },
  {
   "cell_type": "code",
   "execution_count": 39,
   "id": "973530b4",
   "metadata": {},
   "outputs": [],
   "source": [
    "subgraph_katz = full_graph_katz.subgraph(top_nodes)"
   ]
  },
  {
   "cell_type": "code",
   "execution_count": 40,
   "id": "87b61782",
   "metadata": {},
   "outputs": [],
   "source": [
    "subgraph_edges = list(subgraph_katz.edges())\n",
    "\n",
    "edges_data = []\n",
    "for edge in subgraph_edges:\n",
    "    source, target = edge\n",
    "    # Ganti bagian ini dengan cara Anda mendapatkan informasi tentang tepi (edge) dari subgraf\n",
    "    edges_data.append({'Node': source, 'Target': target})\n",
    "\n",
    "edges_df = pd.DataFrame(edges_data)"
   ]
  },
  {
   "cell_type": "code",
   "execution_count": 41,
   "id": "e47ee919",
   "metadata": {},
   "outputs": [
    {
     "data": {
      "text/html": [
       "<div>\n",
       "<style scoped>\n",
       "    .dataframe tbody tr th:only-of-type {\n",
       "        vertical-align: middle;\n",
       "    }\n",
       "\n",
       "    .dataframe tbody tr th {\n",
       "        vertical-align: top;\n",
       "    }\n",
       "\n",
       "    .dataframe thead th {\n",
       "        text-align: right;\n",
       "    }\n",
       "</style>\n",
       "<table border=\"1\" class=\"dataframe\">\n",
       "  <thead>\n",
       "    <tr style=\"text-align: right;\">\n",
       "      <th></th>\n",
       "      <th>Node</th>\n",
       "      <th>Target</th>\n",
       "    </tr>\n",
       "  </thead>\n",
       "  <tbody>\n",
       "    <tr>\n",
       "      <th>0</th>\n",
       "      <td>ulil</td>\n",
       "      <td>Metro_TV</td>\n",
       "    </tr>\n",
       "    <tr>\n",
       "      <th>1</th>\n",
       "      <td>Metro_TV</td>\n",
       "      <td>KPK_RI</td>\n",
       "    </tr>\n",
       "    <tr>\n",
       "      <th>2</th>\n",
       "      <td>mohmahfudmd</td>\n",
       "      <td>KPK_RI</td>\n",
       "    </tr>\n",
       "    <tr>\n",
       "      <th>3</th>\n",
       "      <td>mohmahfudmd</td>\n",
       "      <td>Metro_TV</td>\n",
       "    </tr>\n",
       "  </tbody>\n",
       "</table>\n",
       "</div>"
      ],
      "text/plain": [
       "          Node    Target\n",
       "0         ulil  Metro_TV\n",
       "1     Metro_TV    KPK_RI\n",
       "2  mohmahfudmd    KPK_RI\n",
       "3  mohmahfudmd  Metro_TV"
      ]
     },
     "execution_count": 41,
     "metadata": {},
     "output_type": "execute_result"
    }
   ],
   "source": [
    "edges_df"
   ]
  },
  {
   "cell_type": "code",
   "execution_count": 27,
   "id": "20e58bb8",
   "metadata": {},
   "outputs": [],
   "source": [
    "top_30_katz_centrality_by_year.to_csv('Top 30 Users with Katz Centrality.csv')"
   ]
  },
  {
   "cell_type": "markdown",
   "id": "e8aca608",
   "metadata": {},
   "source": [
    "# Laplacian Centrality"
   ]
  },
  {
   "cell_type": "code",
   "execution_count": 20,
   "id": "3a511a86",
   "metadata": {},
   "outputs": [
    {
     "data": {
      "text/html": [
       "\n",
       "\t\t\t<script type=\"text/javascript\">\n",
       "\t\t\t<!--\n",
       "\t\t\t\t\n",
       "\t\t\t{\n",
       "\t\t\t\tvar element = document.getElementById('NetworKit_script');\n",
       "\t\t\t\tif (element) {\n",
       "\t\t\t\t\telement.parentNode.removeChild(element);\n",
       "\t\t\t\t}\n",
       "\t\t\t\telement = document.createElement('script');\n",
       "\t\t\t\telement.type = 'text/javascript';\n",
       "\t\t\t\telement.innerHTML = 'function NetworKit_pageEmbed(id) { var i, j; var elements; elements = document.getElementById(id).getElementsByClassName(\"Plot\"); for (i=0; i<elements.length; i++) { elements[i].id = id + \"_Plot_\" + i; var data = elements[i].getAttribute(\"data-image\").split(\"|\"); elements[i].removeAttribute(\"data-image\"); var content = \"<div class=\\\\\"Image\\\\\" id=\\\\\"\" + elements[i].id + \"_Image\\\\\" />\"; elements[i].innerHTML = content; elements[i].setAttribute(\"data-image-index\", 0); elements[i].setAttribute(\"data-image-length\", data.length); for (j=0; j<data.length; j++) { elements[i].setAttribute(\"data-image-\" + j, data[j]); } NetworKit_plotUpdate(elements[i]); elements[i].onclick = function (e) { NetworKit_overlayShow((e.target) ? e.target : e.srcElement); } } elements = document.getElementById(id).getElementsByClassName(\"HeatCell\"); for (i=0; i<elements.length; i++) { var data = parseFloat(elements[i].getAttribute(\"data-heat\")); var color = \"#00FF00\"; if (data <= 1 && data > 0) { color = \"hsla(0, 100%, 75%, \" + (data) + \")\"; } else if (data <= 0 && data >= -1) { color = \"hsla(240, 100%, 75%, \" + (-data) + \")\"; } elements[i].style.backgroundColor = color; } elements = document.getElementById(id).getElementsByClassName(\"Details\"); for (i=0; i<elements.length; i++) { elements[i].setAttribute(\"data-title\", \"-\"); NetworKit_toggleDetails(elements[i]); elements[i].onclick = function (e) { NetworKit_toggleDetails((e.target) ? e.target : e.srcElement); } } elements = document.getElementById(id).getElementsByClassName(\"MathValue\"); for (i=elements.length-1; i>=0; i--) { value = elements[i].innerHTML.trim(); if (value === \"nan\") { elements[i].parentNode.innerHTML = \"\" } } elements = document.getElementById(id).getElementsByClassName(\"SubCategory\"); for (i=elements.length-1; i>=0; i--) { value = elements[i].innerHTML.trim(); if (value === \"\") { elements[i].parentNode.removeChild(elements[i]) } } elements = document.getElementById(id).getElementsByClassName(\"Category\"); for (i=elements.length-1; i>=0; i--) { value = elements[i].innerHTML.trim(); if (value === \"\") { elements[i].parentNode.removeChild(elements[i]) } } var isFirefox = false; try { isFirefox = typeof InstallTrigger !== \"undefined\"; } catch (e) {} if (!isFirefox) { alert(\"Currently the function\\'s output is only fully supported by Firefox.\"); } } function NetworKit_plotUpdate(source) { var index = source.getAttribute(\"data-image-index\"); var data = source.getAttribute(\"data-image-\" + index); var image = document.getElementById(source.id + \"_Image\"); image.style.backgroundImage = \"url(\" + data + \")\"; } function NetworKit_showElement(id, show) { var element = document.getElementById(id); element.style.display = (show) ? \"block\" : \"none\"; } function NetworKit_overlayShow(source) { NetworKit_overlayUpdate(source); NetworKit_showElement(\"NetworKit_Overlay\", true); } function NetworKit_overlayUpdate(source) { document.getElementById(\"NetworKit_Overlay_Title\").innerHTML = source.title; var index = source.getAttribute(\"data-image-index\"); var data = source.getAttribute(\"data-image-\" + index); var image = document.getElementById(\"NetworKit_Overlay_Image\"); image.setAttribute(\"data-id\", source.id); image.style.backgroundImage = \"url(\" + data + \")\"; var link = document.getElementById(\"NetworKit_Overlay_Toolbar_Bottom_Save\"); link.href = data; link.download = source.title + \".svg\"; } function NetworKit_overlayImageShift(delta) { var image = document.getElementById(\"NetworKit_Overlay_Image\"); var source = document.getElementById(image.getAttribute(\"data-id\")); var index = parseInt(source.getAttribute(\"data-image-index\")); var length = parseInt(source.getAttribute(\"data-image-length\")); var index = (index+delta) % length; if (index < 0) { index = length + index; } source.setAttribute(\"data-image-index\", index); NetworKit_overlayUpdate(source); } function NetworKit_toggleDetails(source) { var childs = source.children; var show = false; if (source.getAttribute(\"data-title\") == \"-\") { source.setAttribute(\"data-title\", \"+\"); show = false; } else { source.setAttribute(\"data-title\", \"-\"); show = true; } for (i=0; i<childs.length; i++) { if (show) { childs[i].style.display = \"block\"; } else { childs[i].style.display = \"none\"; } } }';\n",
       "\t\t\t\telement.setAttribute('id', 'NetworKit_script');\n",
       "\t\t\t\tdocument.head.appendChild(element);\n",
       "\t\t\t}\n",
       "\t\t\n",
       "\t\t\t\t\n",
       "\t\t\t{\n",
       "\t\t\t\tvar element = document.getElementById('NetworKit_style');\n",
       "\t\t\t\tif (element) {\n",
       "\t\t\t\t\telement.parentNode.removeChild(element);\n",
       "\t\t\t\t}\n",
       "\t\t\t\telement = document.createElement('style');\n",
       "\t\t\t\telement.type = 'text/css';\n",
       "\t\t\t\telement.innerHTML = '.NetworKit_Page { font-family: Arial, Helvetica, sans-serif; font-size: 14px; } .NetworKit_Page .Value:before { font-family: Arial, Helvetica, sans-serif; font-size: 1.05em; content: attr(data-title) \":\"; margin-left: -2.5em; padding-right: 0.5em; } .NetworKit_Page .Details .Value:before { display: block; } .NetworKit_Page .Value { font-family: monospace; white-space: pre; padding-left: 2.5em; white-space: -moz-pre-wrap !important; white-space: -pre-wrap; white-space: -o-pre-wrap; white-space: pre-wrap; word-wrap: break-word; tab-size: 4; -moz-tab-size: 4; } .NetworKit_Page .Category { clear: both; padding-left: 1em; margin-bottom: 1.5em; } .NetworKit_Page .Category:before { content: attr(data-title); font-size: 1.75em; display: block; margin-left: -0.8em; margin-bottom: 0.5em; } .NetworKit_Page .SubCategory { margin-bottom: 1.5em; padding-left: 1em; } .NetworKit_Page .SubCategory:before { font-size: 1.6em; display: block; margin-left: -0.8em; margin-bottom: 0.5em; } .NetworKit_Page .SubCategory[data-title]:before { content: attr(data-title); } .NetworKit_Page .Block { display: block; } .NetworKit_Page .Block:after { content: \".\"; visibility: hidden; display: block; height: 0; clear: both; } .NetworKit_Page .Block .Thumbnail_Overview, .NetworKit_Page .Block .Thumbnail_ScatterPlot { width: 260px; float: left; } .NetworKit_Page .Block .Thumbnail_Overview img, .NetworKit_Page .Block .Thumbnail_ScatterPlot img { width: 260px; } .NetworKit_Page .Block .Thumbnail_Overview:before, .NetworKit_Page .Block .Thumbnail_ScatterPlot:before { display: block; text-align: center; font-weight: bold; } .NetworKit_Page .Block .Thumbnail_Overview:before { content: attr(data-title); } .NetworKit_Page .HeatCell { font-family: \"Courier New\", Courier, monospace; cursor: pointer; } .NetworKit_Page .HeatCell, .NetworKit_Page .HeatCellName { display: inline; padding: 0.1em; margin-right: 2px; background-color: #FFFFFF } .NetworKit_Page .HeatCellName { margin-left: 0.25em; } .NetworKit_Page .HeatCell:before { content: attr(data-heat); display: inline-block; color: #000000; width: 4em; text-align: center; } .NetworKit_Page .Measure { clear: both; } .NetworKit_Page .Measure .Details { cursor: pointer; } .NetworKit_Page .Measure .Details:before { content: \"[\" attr(data-title) \"]\"; display: block; } .NetworKit_Page .Measure .Details .Value { border-left: 1px dotted black; margin-left: 0.4em; padding-left: 3.5em; pointer-events: none; } .NetworKit_Page .Measure .Details .Spacer:before { content: \".\"; opacity: 0.0; pointer-events: none; } .NetworKit_Page .Measure .Plot { width: 440px; height: 440px; cursor: pointer; float: left; margin-left: -0.9em; margin-right: 20px; } .NetworKit_Page .Measure .Plot .Image { background-repeat: no-repeat; background-position: center center; background-size: contain; height: 100%; pointer-events: none; } .NetworKit_Page .Measure .Stat { width: 500px; float: left; } .NetworKit_Page .Measure .Stat .Group { padding-left: 1.25em; margin-bottom: 0.75em; } .NetworKit_Page .Measure .Stat .Group .Title { font-size: 1.1em; display: block; margin-bottom: 0.3em; margin-left: -0.75em; border-right-style: dotted; border-right-width: 1px; border-bottom-style: dotted; border-bottom-width: 1px; background-color: #D0D0D0; padding-left: 0.2em; } .NetworKit_Page .Measure .Stat .Group .List { -webkit-column-count: 3; -moz-column-count: 3; column-count: 3; } .NetworKit_Page .Measure .Stat .Group .List .Entry { position: relative; line-height: 1.75em; } .NetworKit_Page .Measure .Stat .Group .List .Entry[data-tooltip]:before { position: absolute; left: 0; top: -40px; background-color: #808080; color: #ffffff; height: 30px; line-height: 30px; border-radius: 5px; padding: 0 15px; content: attr(data-tooltip); white-space: nowrap; display: none; } .NetworKit_Page .Measure .Stat .Group .List .Entry[data-tooltip]:after { position: absolute; left: 15px; top: -10px; border-top: 7px solid #808080; border-left: 7px solid transparent; border-right: 7px solid transparent; content: \"\"; display: none; } .NetworKit_Page .Measure .Stat .Group .List .Entry[data-tooltip]:hover:after, .NetworKit_Page .Measure .Stat .Group .List .Entry[data-tooltip]:hover:before { display: block; } .NetworKit_Page .Measure .Stat .Group .List .Entry .MathValue { font-family: \"Courier New\", Courier, monospace; } .NetworKit_Page .Measure:after { content: \".\"; visibility: hidden; display: block; height: 0; clear: both; } .NetworKit_Page .PartitionPie { clear: both; } .NetworKit_Page .PartitionPie img { width: 600px; } #NetworKit_Overlay { left: 0px; top: 0px; display: none; position: absolute; width: 100%; height: 100%; background-color: rgba(0,0,0,0.6); z-index: 1000; } #NetworKit_Overlay_Title { position: absolute; color: white; transform: rotate(-90deg); width: 32em; height: 32em; padding-right: 0.5em; padding-top: 0.5em; text-align: right; font-size: 40px; } #NetworKit_Overlay .button { background: white; cursor: pointer; } #NetworKit_Overlay .button:before { size: 13px; display: inline-block; text-align: center; margin-top: 0.5em; margin-bottom: 0.5em; width: 1.5em; height: 1.5em; } #NetworKit_Overlay .icon-close:before { content: \"X\"; } #NetworKit_Overlay .icon-previous:before { content: \"P\"; } #NetworKit_Overlay .icon-next:before { content: \"N\"; } #NetworKit_Overlay .icon-save:before { content: \"S\"; } #NetworKit_Overlay_Toolbar_Top, #NetworKit_Overlay_Toolbar_Bottom { position: absolute; width: 40px; right: 13px; text-align: right; z-index: 1100; } #NetworKit_Overlay_Toolbar_Top { top: 0.5em; } #NetworKit_Overlay_Toolbar_Bottom { Bottom: 0.5em; } #NetworKit_Overlay_ImageContainer { position: absolute; top: 5%; left: 5%; height: 90%; width: 90%; background-repeat: no-repeat; background-position: center center; background-size: contain; } #NetworKit_Overlay_Image { height: 100%; width: 100%; background-repeat: no-repeat; background-position: center center; background-size: contain; }';\n",
       "\t\t\t\telement.setAttribute('id', 'NetworKit_style');\n",
       "\t\t\t\tdocument.head.appendChild(element);\n",
       "\t\t\t}\n",
       "\t\t\n",
       "\t\t\t\t\n",
       "\t\t\t{\n",
       "\t\t\t\tvar element = document.getElementById('NetworKit_Overlay');\n",
       "\t\t\t\tif (element) {\n",
       "\t\t\t\t\telement.parentNode.removeChild(element);\n",
       "\t\t\t\t}\n",
       "\t\t\t\telement = document.createElement('div');\n",
       "\t\t\t\telement.innerHTML = '<div id=\"NetworKit_Overlay_Toolbar_Top\"><div class=\"button icon-close\" id=\"NetworKit_Overlay_Close\" /></div><div id=\"NetworKit_Overlay_Title\" /> <div id=\"NetworKit_Overlay_ImageContainer\"> <div id=\"NetworKit_Overlay_Image\" /> </div> <div id=\"NetworKit_Overlay_Toolbar_Bottom\"> <div class=\"button icon-previous\" onclick=\"NetworKit_overlayImageShift(-1)\" /> <div class=\"button icon-next\" onclick=\"NetworKit_overlayImageShift(1)\" /> <a id=\"NetworKit_Overlay_Toolbar_Bottom_Save\"><div class=\"button icon-save\" /></a> </div>';\n",
       "\t\t\t\telement.setAttribute('id', 'NetworKit_Overlay');\n",
       "\t\t\t\tdocument.body.appendChild(element);\n",
       "\t\t\t\tdocument.getElementById('NetworKit_Overlay_Close').onclick = function (e) {\n",
       "\t\t\t\t\tdocument.getElementById('NetworKit_Overlay').style.display = 'none';\n",
       "\t\t\t\t}\n",
       "\t\t\t}\n",
       "\t\t\n",
       "\t\t\t-->\n",
       "\t\t\t</script>\n",
       "\t\t"
      ]
     },
     "metadata": {},
     "output_type": "display_data"
    }
   ],
   "source": [
    "import networkit as nk"
   ]
  },
  {
   "cell_type": "code",
   "execution_count": 21,
   "id": "81fcb250",
   "metadata": {},
   "outputs": [],
   "source": [
    "# Kamus untuk menyimpan hasil sentralitas Katz Centrality untuk setiap tahun\n",
    "nx_to_nk = {}\n",
    "laplacian_centrality_by_year = {}\n",
    "\n",
    "# Loop untuk menghitung sentralitas Laplacian Centrality untuk setiap tahun dari 2009 hingga 2019\n",
    "for year, graph in graphs_by_year.items():\n",
    "    nx_to_nk[year] = nk.nxadapter.nx2nk(graphs_by_year[year])\n",
    "    laplacian_centrality = nk.centrality.LaplacianCentrality(nx_to_nk[year]).run()\n",
    "    laplacian_centrality_by_year[year] = laplacian_centrality"
   ]
  },
  {
   "cell_type": "code",
   "execution_count": 22,
   "id": "33d363ec",
   "metadata": {},
   "outputs": [
    {
     "data": {
      "text/html": [
       "<div>\n",
       "<style scoped>\n",
       "    .dataframe tbody tr th:only-of-type {\n",
       "        vertical-align: middle;\n",
       "    }\n",
       "\n",
       "    .dataframe tbody tr th {\n",
       "        vertical-align: top;\n",
       "    }\n",
       "\n",
       "    .dataframe thead th {\n",
       "        text-align: right;\n",
       "    }\n",
       "</style>\n",
       "<table border=\"1\" class=\"dataframe\">\n",
       "  <thead>\n",
       "    <tr style=\"text-align: right;\">\n",
       "      <th></th>\n",
       "      <th>ID</th>\n",
       "      <th>Username</th>\n",
       "      <th>Laplacian Centrality</th>\n",
       "      <th>Year</th>\n",
       "    </tr>\n",
       "  </thead>\n",
       "  <tbody>\n",
       "    <tr>\n",
       "      <th>0</th>\n",
       "      <td>1420.0</td>\n",
       "      <td>FasJuw</td>\n",
       "      <td>56.0</td>\n",
       "      <td>2009</td>\n",
       "    </tr>\n",
       "    <tr>\n",
       "      <th>1</th>\n",
       "      <td>448.0</td>\n",
       "      <td>ribosa</td>\n",
       "      <td>52.0</td>\n",
       "      <td>2009</td>\n",
       "    </tr>\n",
       "    <tr>\n",
       "      <th>2</th>\n",
       "      <td>161.0</td>\n",
       "      <td>chibialfa</td>\n",
       "      <td>48.0</td>\n",
       "      <td>2009</td>\n",
       "    </tr>\n",
       "    <tr>\n",
       "      <th>3</th>\n",
       "      <td>887.0</td>\n",
       "      <td>vinskatan</td>\n",
       "      <td>44.0</td>\n",
       "      <td>2009</td>\n",
       "    </tr>\n",
       "    <tr>\n",
       "      <th>4</th>\n",
       "      <td>135.0</td>\n",
       "      <td>raynardrheda</td>\n",
       "      <td>42.0</td>\n",
       "      <td>2009</td>\n",
       "    </tr>\n",
       "    <tr>\n",
       "      <th>...</th>\n",
       "      <td>...</td>\n",
       "      <td>...</td>\n",
       "      <td>...</td>\n",
       "      <td>...</td>\n",
       "    </tr>\n",
       "    <tr>\n",
       "      <th>325</th>\n",
       "      <td>193.0</td>\n",
       "      <td>tandanVradio</td>\n",
       "      <td>68.0</td>\n",
       "      <td>2019</td>\n",
       "    </tr>\n",
       "    <tr>\n",
       "      <th>326</th>\n",
       "      <td>495.0</td>\n",
       "      <td>oaseminang</td>\n",
       "      <td>62.0</td>\n",
       "      <td>2019</td>\n",
       "    </tr>\n",
       "    <tr>\n",
       "      <th>327</th>\n",
       "      <td>812.0</td>\n",
       "      <td>katakitatweet</td>\n",
       "      <td>58.0</td>\n",
       "      <td>2019</td>\n",
       "    </tr>\n",
       "    <tr>\n",
       "      <th>328</th>\n",
       "      <td>570.0</td>\n",
       "      <td>nfia82</td>\n",
       "      <td>56.0</td>\n",
       "      <td>2019</td>\n",
       "    </tr>\n",
       "    <tr>\n",
       "      <th>329</th>\n",
       "      <td>754.0</td>\n",
       "      <td>KicauSunyi</td>\n",
       "      <td>56.0</td>\n",
       "      <td>2019</td>\n",
       "    </tr>\n",
       "  </tbody>\n",
       "</table>\n",
       "<p>330 rows × 4 columns</p>\n",
       "</div>"
      ],
      "text/plain": [
       "         ID       Username  Laplacian Centrality  Year\n",
       "0    1420.0         FasJuw                  56.0  2009\n",
       "1     448.0         ribosa                  52.0  2009\n",
       "2     161.0      chibialfa                  48.0  2009\n",
       "3     887.0      vinskatan                  44.0  2009\n",
       "4     135.0   raynardrheda                  42.0  2009\n",
       "..      ...            ...                   ...   ...\n",
       "325   193.0   tandanVradio                  68.0  2019\n",
       "326   495.0     oaseminang                  62.0  2019\n",
       "327   812.0  katakitatweet                  58.0  2019\n",
       "328   570.0         nfia82                  56.0  2019\n",
       "329   754.0     KicauSunyi                  56.0  2019\n",
       "\n",
       "[330 rows x 4 columns]"
      ]
     },
     "execution_count": 22,
     "metadata": {},
     "output_type": "execute_result"
    }
   ],
   "source": [
    "# Membuat DataFrame untuk hasil akhir\n",
    "top_30_laplacian_by_year = pd.DataFrame()\n",
    "\n",
    "# Loop untuk setiap tahun dari 2009 hingga 2019\n",
    "for year in range(2009, 2020):\n",
    "    centrality_year = pd.DataFrame(laplacian_centrality_by_year[year].ranking(), columns=['ID', 'Laplacian Centrality'])\n",
    "    index = pd.DataFrame(range(0, 2476), columns=['ID'])\n",
    "    nodes_year = pd.DataFrame(graphs_by_year[year].nodes, columns=['Username'])\n",
    "    nama = pd.concat([index, nodes_year], axis=1)\n",
    "    merged_table = nama.merge(centrality_year, on='ID', how='left')\n",
    "    top_30_laplacian = merged_table.sort_values(by='Laplacian Centrality', ascending=False).head(30)\n",
    "\n",
    "    # Menambahkan kolom tahun ke hasil DataFrame\n",
    "    top_30_laplacian['Year'] = year\n",
    "\n",
    "    # Menggabungkan hasil untuk setiap tahun\n",
    "    top_30_laplacian_by_year = pd.concat([top_30_laplacian_by_year, top_30_laplacian], ignore_index=True)\n",
    "\n",
    "# Menampilkan hasil akhir\n",
    "top_30_laplacian_by_year"
   ]
  },
  {
   "cell_type": "code",
   "execution_count": 42,
   "id": "8fbc78c7",
   "metadata": {},
   "outputs": [],
   "source": [
    "node_frequenciess = top_30_laplacian_by_year['Username'].value_counts()\n",
    "top_nodess = node_frequenciess.index[:5].tolist()"
   ]
  },
  {
   "cell_type": "code",
   "execution_count": 43,
   "id": "89da61cc",
   "metadata": {},
   "outputs": [
    {
     "data": {
      "text/plain": [
       "['detikcom', 'fahiraidris', 'sudjiwotedjo', 'fadjroeL', 'M4ngU5il']"
      ]
     },
     "execution_count": 43,
     "metadata": {},
     "output_type": "execute_result"
    }
   ],
   "source": [
    "top_nodess"
   ]
  },
  {
   "cell_type": "code",
   "execution_count": 44,
   "id": "8b628eee",
   "metadata": {},
   "outputs": [],
   "source": [
    "full_graph_laplacian = nx.DiGraph()\n",
    "for graph in graphs_by_year.values():\n",
    "    full_graph_laplacian = nx.compose(full_graph_laplacian, graph)"
   ]
  },
  {
   "cell_type": "code",
   "execution_count": 45,
   "id": "6509a19d",
   "metadata": {},
   "outputs": [],
   "source": [
    "subgraph_laplacian = full_graph_laplacian.subgraph(top_nodess)\n",
    "subgraph_edgess = list(subgraph_laplacian.edges())\n",
    "\n",
    "edges_datas = []\n",
    "for edge in subgraph_edgess:\n",
    "    source, target = edge\n",
    "    # Ganti bagian ini dengan cara Anda mendapatkan informasi tentang tepi (edge) dari subgraf\n",
    "    edges_datas.append({'Node': source, 'Target': target})\n",
    "\n",
    "edges_dfs = pd.DataFrame(edges_datas)"
   ]
  },
  {
   "cell_type": "code",
   "execution_count": 46,
   "id": "df534115",
   "metadata": {},
   "outputs": [
    {
     "data": {
      "text/html": [
       "<div>\n",
       "<style scoped>\n",
       "    .dataframe tbody tr th:only-of-type {\n",
       "        vertical-align: middle;\n",
       "    }\n",
       "\n",
       "    .dataframe tbody tr th {\n",
       "        vertical-align: top;\n",
       "    }\n",
       "\n",
       "    .dataframe thead th {\n",
       "        text-align: right;\n",
       "    }\n",
       "</style>\n",
       "<table border=\"1\" class=\"dataframe\">\n",
       "  <thead>\n",
       "    <tr style=\"text-align: right;\">\n",
       "      <th></th>\n",
       "      <th>Node</th>\n",
       "      <th>Target</th>\n",
       "    </tr>\n",
       "  </thead>\n",
       "  <tbody>\n",
       "    <tr>\n",
       "      <th>0</th>\n",
       "      <td>fadjroeL</td>\n",
       "      <td>sudjiwotedjo</td>\n",
       "    </tr>\n",
       "    <tr>\n",
       "      <th>1</th>\n",
       "      <td>fadjroeL</td>\n",
       "      <td>detikcom</td>\n",
       "    </tr>\n",
       "    <tr>\n",
       "      <th>2</th>\n",
       "      <td>fahiraidris</td>\n",
       "      <td>sudjiwotedjo</td>\n",
       "    </tr>\n",
       "    <tr>\n",
       "      <th>3</th>\n",
       "      <td>fahiraidris</td>\n",
       "      <td>fadjroeL</td>\n",
       "    </tr>\n",
       "    <tr>\n",
       "      <th>4</th>\n",
       "      <td>fahiraidris</td>\n",
       "      <td>M4ngU5il</td>\n",
       "    </tr>\n",
       "    <tr>\n",
       "      <th>5</th>\n",
       "      <td>sudjiwotedjo</td>\n",
       "      <td>M4ngU5il</td>\n",
       "    </tr>\n",
       "    <tr>\n",
       "      <th>6</th>\n",
       "      <td>sudjiwotedjo</td>\n",
       "      <td>detikcom</td>\n",
       "    </tr>\n",
       "  </tbody>\n",
       "</table>\n",
       "</div>"
      ],
      "text/plain": [
       "           Node        Target\n",
       "0      fadjroeL  sudjiwotedjo\n",
       "1      fadjroeL      detikcom\n",
       "2   fahiraidris  sudjiwotedjo\n",
       "3   fahiraidris      fadjroeL\n",
       "4   fahiraidris      M4ngU5il\n",
       "5  sudjiwotedjo      M4ngU5il\n",
       "6  sudjiwotedjo      detikcom"
      ]
     },
     "execution_count": 46,
     "metadata": {},
     "output_type": "execute_result"
    }
   ],
   "source": [
    "edges_dfs"
   ]
  },
  {
   "cell_type": "code",
   "execution_count": 37,
   "id": "466d3bee",
   "metadata": {},
   "outputs": [],
   "source": [
    "top_30_laplacian_by_year.to_csv('Top 30 Users with Laplacian Centrality.csv')"
   ]
  },
  {
   "cell_type": "markdown",
   "id": "56681b45",
   "metadata": {},
   "source": [
    "## Graf Undirected"
   ]
  },
  {
   "cell_type": "code",
   "execution_count": 7,
   "id": "4de46e29",
   "metadata": {},
   "outputs": [],
   "source": [
    "# Membuat 10 objek graf, masing-masing untuk tahun 2009-2019\n",
    "graphs_by_years = {}\n",
    "for year in range(2009, 2020):\n",
    "    graphs_by_years[year] = nx.Graph()\n",
    "\n",
    "# Menambahkan tautan (edge) berdasarkan mention user dalam tweet untuk setiap tahun\n",
    "for _, row in df.iterrows():\n",
    "    tweet_text = row['tweet']\n",
    "    mentions = extract_mentions(tweet_text)\n",
    "    \n",
    "    # Cek apakah nilai tahun tidak kosong (NaN)\n",
    "    if pd.notna(row['created_at']):\n",
    "        year = row['created_at'].year\n",
    "        # Menambahkan nodes\n",
    "        for mention in mentions:\n",
    "            if mention:  # Memastikan mention tidak kosong (hanya akan menambahkan node dengan label yang valid)\n",
    "                graphs_by_years[year].add_node(row['screen_name'])\n",
    "                graphs_by_years[year].add_node(mention)\n",
    "                if mention != row['screen_name']:  # Memastikan tidak ada self-loop (misalnya @user menyebut dirinya sendiri)\n",
    "                    if graphs_by_years[year].has_edge(row['screen_name'], mention):\n",
    "                        # Jika edge sudah ada, tambahkan bobot (weight) sebesar 1\n",
    "                        graphs_by_years[year][row['screen_name']][mention]['weight'] += 1\n",
    "                    else:\n",
    "                        # Jika edge belum ada, buat edge baru dengan bobot (weight) 1\n",
    "                        graphs_by_years[year].add_edge(row['screen_name'], mention, weight=1)"
   ]
  },
  {
   "cell_type": "code",
   "execution_count": 7,
   "id": "1e2f629e",
   "metadata": {},
   "outputs": [
    {
     "data": {
      "text/plain": [
       "(5.216+0j)"
      ]
     },
     "execution_count": 7,
     "metadata": {},
     "output_type": "execute_result"
    }
   ],
   "source": [
    "np.round(max(nx.adjacency_spectrum(graphs_by_years[2009])), 3)"
   ]
  },
  {
   "cell_type": "code",
   "execution_count": null,
   "id": "709bc503",
   "metadata": {},
   "outputs": [],
   "source": [
    "np.round(max(nx.adjacency_spectrum(graphs_by_years[2010])), 3)"
   ]
  },
  {
   "cell_type": "code",
   "execution_count": 42,
   "id": "6a4db09c",
   "metadata": {},
   "outputs": [],
   "source": [
    "katz_centrality = nx.katz_centrality(graphs_by_years[2009], alpha=0.1, beta=1.0, max_iter=5000)"
   ]
  },
  {
   "cell_type": "code",
   "execution_count": 43,
   "id": "092a0728",
   "metadata": {},
   "outputs": [
    {
     "data": {
      "text/html": [
       "<div>\n",
       "<style scoped>\n",
       "    .dataframe tbody tr th:only-of-type {\n",
       "        vertical-align: middle;\n",
       "    }\n",
       "\n",
       "    .dataframe tbody tr th {\n",
       "        vertical-align: top;\n",
       "    }\n",
       "\n",
       "    .dataframe thead th {\n",
       "        text-align: right;\n",
       "    }\n",
       "</style>\n",
       "<table border=\"1\" class=\"dataframe\">\n",
       "  <thead>\n",
       "    <tr style=\"text-align: right;\">\n",
       "      <th></th>\n",
       "      <th>Node</th>\n",
       "      <th>Katz Centrality</th>\n",
       "    </tr>\n",
       "  </thead>\n",
       "  <tbody>\n",
       "    <tr>\n",
       "      <th>0</th>\n",
       "      <td>Metro_TV</td>\n",
       "      <td>0.041886</td>\n",
       "    </tr>\n",
       "    <tr>\n",
       "      <th>1</th>\n",
       "      <td>tifsembiring</td>\n",
       "      <td>0.037902</td>\n",
       "    </tr>\n",
       "    <tr>\n",
       "      <th>2</th>\n",
       "      <td>ShafiqPontoh</td>\n",
       "      <td>0.033742</td>\n",
       "    </tr>\n",
       "    <tr>\n",
       "      <th>3</th>\n",
       "      <td>vincentrompies</td>\n",
       "      <td>0.033500</td>\n",
       "    </tr>\n",
       "    <tr>\n",
       "      <th>4</th>\n",
       "      <td>ribosa</td>\n",
       "      <td>0.033195</td>\n",
       "    </tr>\n",
       "    <tr>\n",
       "      <th>5</th>\n",
       "      <td>si_ali</td>\n",
       "      <td>0.031834</td>\n",
       "    </tr>\n",
       "    <tr>\n",
       "      <th>6</th>\n",
       "      <td>FasJuw</td>\n",
       "      <td>0.031742</td>\n",
       "    </tr>\n",
       "    <tr>\n",
       "      <th>7</th>\n",
       "      <td>chibialfa</td>\n",
       "      <td>0.030504</td>\n",
       "    </tr>\n",
       "    <tr>\n",
       "      <th>8</th>\n",
       "      <td>FerdyLou</td>\n",
       "      <td>0.030501</td>\n",
       "    </tr>\n",
       "    <tr>\n",
       "      <th>9</th>\n",
       "      <td>vinskatan</td>\n",
       "      <td>0.030251</td>\n",
       "    </tr>\n",
       "    <tr>\n",
       "      <th>10</th>\n",
       "      <td>NaufalFileindi</td>\n",
       "      <td>0.029974</td>\n",
       "    </tr>\n",
       "    <tr>\n",
       "      <th>11</th>\n",
       "      <td>IndraPurnama_</td>\n",
       "      <td>0.029966</td>\n",
       "    </tr>\n",
       "    <tr>\n",
       "      <th>12</th>\n",
       "      <td>addthis</td>\n",
       "      <td>0.029687</td>\n",
       "    </tr>\n",
       "    <tr>\n",
       "      <th>13</th>\n",
       "      <td>raynardrheda</td>\n",
       "      <td>0.029557</td>\n",
       "    </tr>\n",
       "    <tr>\n",
       "      <th>14</th>\n",
       "      <td>nasta_inda</td>\n",
       "      <td>0.029557</td>\n",
       "    </tr>\n",
       "    <tr>\n",
       "      <th>15</th>\n",
       "      <td>pinot</td>\n",
       "      <td>0.028795</td>\n",
       "    </tr>\n",
       "    <tr>\n",
       "      <th>16</th>\n",
       "      <td>pandji</td>\n",
       "      <td>0.028474</td>\n",
       "    </tr>\n",
       "    <tr>\n",
       "      <th>17</th>\n",
       "      <td>hermansaksono</td>\n",
       "      <td>0.028406</td>\n",
       "    </tr>\n",
       "    <tr>\n",
       "      <th>18</th>\n",
       "      <td>radityadika</td>\n",
       "      <td>0.028290</td>\n",
       "    </tr>\n",
       "    <tr>\n",
       "      <th>19</th>\n",
       "      <td>fajarnugros</td>\n",
       "      <td>0.028083</td>\n",
       "    </tr>\n",
       "  </tbody>\n",
       "</table>\n",
       "</div>"
      ],
      "text/plain": [
       "              Node  Katz Centrality\n",
       "0         Metro_TV         0.041886\n",
       "1     tifsembiring         0.037902\n",
       "2     ShafiqPontoh         0.033742\n",
       "3   vincentrompies         0.033500\n",
       "4           ribosa         0.033195\n",
       "5           si_ali         0.031834\n",
       "6           FasJuw         0.031742\n",
       "7        chibialfa         0.030504\n",
       "8         FerdyLou         0.030501\n",
       "9        vinskatan         0.030251\n",
       "10  NaufalFileindi         0.029974\n",
       "11   IndraPurnama_         0.029966\n",
       "12         addthis         0.029687\n",
       "13    raynardrheda         0.029557\n",
       "14      nasta_inda         0.029557\n",
       "15           pinot         0.028795\n",
       "16          pandji         0.028474\n",
       "17   hermansaksono         0.028406\n",
       "18     radityadika         0.028290\n",
       "19     fajarnugros         0.028083"
      ]
     },
     "execution_count": 43,
     "metadata": {},
     "output_type": "execute_result"
    }
   ],
   "source": [
    "yearly = pd.DataFrame(list(katz_centrality.items()), columns=['Node', 'Katz Centrality'])\n",
    "top_10 = yearly.sort_values(by='Katz Centrality', ascending=False).head(20).reset_index(drop=True)\n",
    "top_10"
   ]
  },
  {
   "cell_type": "code",
   "execution_count": 45,
   "id": "f8b00a06",
   "metadata": {},
   "outputs": [],
   "source": [
    "katz_centrality2 = nx.katz_centrality(graphs_by_years[2010], alpha=0.01, beta=1.0, max_iter=5000)"
   ]
  },
  {
   "cell_type": "code",
   "execution_count": 46,
   "id": "53ff94ae",
   "metadata": {},
   "outputs": [
    {
     "data": {
      "text/html": [
       "<div>\n",
       "<style scoped>\n",
       "    .dataframe tbody tr th:only-of-type {\n",
       "        vertical-align: middle;\n",
       "    }\n",
       "\n",
       "    .dataframe tbody tr th {\n",
       "        vertical-align: top;\n",
       "    }\n",
       "\n",
       "    .dataframe thead th {\n",
       "        text-align: right;\n",
       "    }\n",
       "</style>\n",
       "<table border=\"1\" class=\"dataframe\">\n",
       "  <thead>\n",
       "    <tr style=\"text-align: right;\">\n",
       "      <th></th>\n",
       "      <th>Node</th>\n",
       "      <th>Katz Centrality</th>\n",
       "    </tr>\n",
       "  </thead>\n",
       "  <tbody>\n",
       "    <tr>\n",
       "      <th>0</th>\n",
       "      <td>ulil</td>\n",
       "      <td>0.023919</td>\n",
       "    </tr>\n",
       "    <tr>\n",
       "      <th>1</th>\n",
       "      <td>fiksimini</td>\n",
       "      <td>0.018240</td>\n",
       "    </tr>\n",
       "    <tr>\n",
       "      <th>2</th>\n",
       "      <td>salimafillah</td>\n",
       "      <td>0.016576</td>\n",
       "    </tr>\n",
       "    <tr>\n",
       "      <th>3</th>\n",
       "      <td>ayatquran</td>\n",
       "      <td>0.012661</td>\n",
       "    </tr>\n",
       "    <tr>\n",
       "      <th>4</th>\n",
       "      <td>SoalCINTA</td>\n",
       "      <td>0.012487</td>\n",
       "    </tr>\n",
       "    <tr>\n",
       "      <th>5</th>\n",
       "      <td>gm_gm</td>\n",
       "      <td>0.012420</td>\n",
       "    </tr>\n",
       "    <tr>\n",
       "      <th>6</th>\n",
       "      <td>Metro_TV</td>\n",
       "      <td>0.012369</td>\n",
       "    </tr>\n",
       "    <tr>\n",
       "      <th>7</th>\n",
       "      <td>detikcom</td>\n",
       "      <td>0.012047</td>\n",
       "    </tr>\n",
       "    <tr>\n",
       "      <th>8</th>\n",
       "      <td>syukronamin</td>\n",
       "      <td>0.011187</td>\n",
       "    </tr>\n",
       "    <tr>\n",
       "      <th>9</th>\n",
       "      <td>fahiraidris</td>\n",
       "      <td>0.011128</td>\n",
       "    </tr>\n",
       "    <tr>\n",
       "      <th>10</th>\n",
       "      <td>GunturRomli</td>\n",
       "      <td>0.010771</td>\n",
       "    </tr>\n",
       "    <tr>\n",
       "      <th>11</th>\n",
       "      <td>benhan</td>\n",
       "      <td>0.010741</td>\n",
       "    </tr>\n",
       "    <tr>\n",
       "      <th>12</th>\n",
       "      <td>revolutia</td>\n",
       "      <td>0.010575</td>\n",
       "    </tr>\n",
       "    <tr>\n",
       "      <th>13</th>\n",
       "      <td>HanyaPetikan</td>\n",
       "      <td>0.010527</td>\n",
       "    </tr>\n",
       "    <tr>\n",
       "      <th>14</th>\n",
       "      <td>pandji</td>\n",
       "      <td>0.010501</td>\n",
       "    </tr>\n",
       "    <tr>\n",
       "      <th>15</th>\n",
       "      <td>fadjroel</td>\n",
       "      <td>0.010501</td>\n",
       "    </tr>\n",
       "    <tr>\n",
       "      <th>16</th>\n",
       "      <td>soalBOWBOW</td>\n",
       "      <td>0.010463</td>\n",
       "    </tr>\n",
       "    <tr>\n",
       "      <th>17</th>\n",
       "      <td>tifsembiring</td>\n",
       "      <td>0.010423</td>\n",
       "    </tr>\n",
       "    <tr>\n",
       "      <th>18</th>\n",
       "      <td>GunRomli</td>\n",
       "      <td>0.010405</td>\n",
       "    </tr>\n",
       "    <tr>\n",
       "      <th>19</th>\n",
       "      <td>kompasdotcom</td>\n",
       "      <td>0.010292</td>\n",
       "    </tr>\n",
       "  </tbody>\n",
       "</table>\n",
       "</div>"
      ],
      "text/plain": [
       "            Node  Katz Centrality\n",
       "0           ulil         0.023919\n",
       "1      fiksimini         0.018240\n",
       "2   salimafillah         0.016576\n",
       "3      ayatquran         0.012661\n",
       "4      SoalCINTA         0.012487\n",
       "5          gm_gm         0.012420\n",
       "6       Metro_TV         0.012369\n",
       "7       detikcom         0.012047\n",
       "8    syukronamin         0.011187\n",
       "9    fahiraidris         0.011128\n",
       "10   GunturRomli         0.010771\n",
       "11        benhan         0.010741\n",
       "12     revolutia         0.010575\n",
       "13  HanyaPetikan         0.010527\n",
       "14        pandji         0.010501\n",
       "15      fadjroel         0.010501\n",
       "16    soalBOWBOW         0.010463\n",
       "17  tifsembiring         0.010423\n",
       "18      GunRomli         0.010405\n",
       "19  kompasdotcom         0.010292"
      ]
     },
     "execution_count": 46,
     "metadata": {},
     "output_type": "execute_result"
    }
   ],
   "source": [
    "yearly = pd.DataFrame(list(katz_centrality2.items()), columns=['Node', 'Katz Centrality'])\n",
    "top_10 = yearly.sort_values(by='Katz Centrality', ascending=False).head(20).reset_index(drop=True)\n",
    "top_10"
   ]
  },
  {
   "cell_type": "code",
   "execution_count": 48,
   "id": "61b9a5be",
   "metadata": {},
   "outputs": [],
   "source": [
    "katz_centrality3 = nx.katz_centrality(graphs_by_years[2011], alpha=0.01, beta=1.0, max_iter=5000)"
   ]
  },
  {
   "cell_type": "code",
   "execution_count": 49,
   "id": "6feb79f5",
   "metadata": {},
   "outputs": [
    {
     "data": {
      "text/html": [
       "<div>\n",
       "<style scoped>\n",
       "    .dataframe tbody tr th:only-of-type {\n",
       "        vertical-align: middle;\n",
       "    }\n",
       "\n",
       "    .dataframe tbody tr th {\n",
       "        vertical-align: top;\n",
       "    }\n",
       "\n",
       "    .dataframe thead th {\n",
       "        text-align: right;\n",
       "    }\n",
       "</style>\n",
       "<table border=\"1\" class=\"dataframe\">\n",
       "  <thead>\n",
       "    <tr style=\"text-align: right;\">\n",
       "      <th></th>\n",
       "      <th>Node</th>\n",
       "      <th>Katz Centrality</th>\n",
       "    </tr>\n",
       "  </thead>\n",
       "  <tbody>\n",
       "    <tr>\n",
       "      <th>0</th>\n",
       "      <td>salimafillah</td>\n",
       "      <td>0.018547</td>\n",
       "    </tr>\n",
       "    <tr>\n",
       "      <th>1</th>\n",
       "      <td>detikcom</td>\n",
       "      <td>0.014080</td>\n",
       "    </tr>\n",
       "    <tr>\n",
       "      <th>2</th>\n",
       "      <td>ipphoright</td>\n",
       "      <td>0.011821</td>\n",
       "    </tr>\n",
       "    <tr>\n",
       "      <th>3</th>\n",
       "      <td>ulil</td>\n",
       "      <td>0.011806</td>\n",
       "    </tr>\n",
       "    <tr>\n",
       "      <th>4</th>\n",
       "      <td>sudjiwotedjo</td>\n",
       "      <td>0.011542</td>\n",
       "    </tr>\n",
       "    <tr>\n",
       "      <th>5</th>\n",
       "      <td>fiksimini</td>\n",
       "      <td>0.011485</td>\n",
       "    </tr>\n",
       "    <tr>\n",
       "      <th>6</th>\n",
       "      <td>benny_israel</td>\n",
       "      <td>0.010953</td>\n",
       "    </tr>\n",
       "    <tr>\n",
       "      <th>7</th>\n",
       "      <td>syukronamin</td>\n",
       "      <td>0.010731</td>\n",
       "    </tr>\n",
       "    <tr>\n",
       "      <th>8</th>\n",
       "      <td>TerimakasihIBU</td>\n",
       "      <td>0.009890</td>\n",
       "    </tr>\n",
       "    <tr>\n",
       "      <th>9</th>\n",
       "      <td>GunRomli</td>\n",
       "      <td>0.009845</td>\n",
       "    </tr>\n",
       "    <tr>\n",
       "      <th>10</th>\n",
       "      <td>YouTube</td>\n",
       "      <td>0.009824</td>\n",
       "    </tr>\n",
       "    <tr>\n",
       "      <th>11</th>\n",
       "      <td>ayatquran</td>\n",
       "      <td>0.009819</td>\n",
       "    </tr>\n",
       "    <tr>\n",
       "      <th>12</th>\n",
       "      <td>endanksoekamti</td>\n",
       "      <td>0.009548</td>\n",
       "    </tr>\n",
       "    <tr>\n",
       "      <th>13</th>\n",
       "      <td>Gus_Sholah</td>\n",
       "      <td>0.009351</td>\n",
       "    </tr>\n",
       "    <tr>\n",
       "      <th>14</th>\n",
       "      <td>sajak_cinta</td>\n",
       "      <td>0.009331</td>\n",
       "    </tr>\n",
       "    <tr>\n",
       "      <th>15</th>\n",
       "      <td>Poconggg</td>\n",
       "      <td>0.009304</td>\n",
       "    </tr>\n",
       "    <tr>\n",
       "      <th>16</th>\n",
       "      <td>tifsembiring</td>\n",
       "      <td>0.009266</td>\n",
       "    </tr>\n",
       "    <tr>\n",
       "      <th>17</th>\n",
       "      <td>kompasdotcom</td>\n",
       "      <td>0.009073</td>\n",
       "    </tr>\n",
       "    <tr>\n",
       "      <th>18</th>\n",
       "      <td>SoalCINTA</td>\n",
       "      <td>0.008817</td>\n",
       "    </tr>\n",
       "    <tr>\n",
       "      <th>19</th>\n",
       "      <td>umaleao</td>\n",
       "      <td>0.008756</td>\n",
       "    </tr>\n",
       "  </tbody>\n",
       "</table>\n",
       "</div>"
      ],
      "text/plain": [
       "              Node  Katz Centrality\n",
       "0     salimafillah         0.018547\n",
       "1         detikcom         0.014080\n",
       "2       ipphoright         0.011821\n",
       "3             ulil         0.011806\n",
       "4     sudjiwotedjo         0.011542\n",
       "5        fiksimini         0.011485\n",
       "6     benny_israel         0.010953\n",
       "7      syukronamin         0.010731\n",
       "8   TerimakasihIBU         0.009890\n",
       "9         GunRomli         0.009845\n",
       "10         YouTube         0.009824\n",
       "11       ayatquran         0.009819\n",
       "12  endanksoekamti         0.009548\n",
       "13      Gus_Sholah         0.009351\n",
       "14     sajak_cinta         0.009331\n",
       "15        Poconggg         0.009304\n",
       "16    tifsembiring         0.009266\n",
       "17    kompasdotcom         0.009073\n",
       "18       SoalCINTA         0.008817\n",
       "19         umaleao         0.008756"
      ]
     },
     "execution_count": 49,
     "metadata": {},
     "output_type": "execute_result"
    }
   ],
   "source": [
    "yearly = pd.DataFrame(list(katz_centrality3.items()), columns=['Node', 'Katz Centrality'])\n",
    "top_10 = yearly.sort_values(by='Katz Centrality', ascending=False).head(20).reset_index(drop=True)\n",
    "top_10"
   ]
  },
  {
   "cell_type": "code",
   "execution_count": null,
   "id": "f27df132",
   "metadata": {},
   "outputs": [],
   "source": []
  },
  {
   "cell_type": "markdown",
   "id": "0c5bf579",
   "metadata": {},
   "source": [
    "# Katz Centrality (Undirected)"
   ]
  },
  {
   "cell_type": "code",
   "execution_count": 30,
   "id": "fda2bfac",
   "metadata": {},
   "outputs": [],
   "source": [
    "# Kamus untuk menyimpan hasil sentralitas Katz Centrality untuk setiap tahun\n",
    "katz_centrality_by_years = {}\n",
    "\n",
    "# Loop untuk menghitung sentralitas Katz Centrality untuk setiap tahun dari 2009 hingga 2019\n",
    "for year, graph in graphs_by_years.items():\n",
    "    katz_centrality = nx.katz_centrality(graph, alpha=0.01, beta=1.0, max_iter=5000)\n",
    "    katz_centrality_by_years[year] = katz_centrality"
   ]
  },
  {
   "cell_type": "code",
   "execution_count": 31,
   "id": "ec7be36e",
   "metadata": {},
   "outputs": [],
   "source": [
    "top_10_katz_centrality_by_years = pd.DataFrame()\n",
    "for year, katz_centrality in katz_centrality_by_years.items():\n",
    "    # Sort katz_centrality menjadi descending order dan ambil 10 user pertama\n",
    "    yearly = pd.DataFrame(list(katz_centrality_by_years[year].items()), columns=['Node', 'Katz Centrality'])\n",
    "    top_10 = yearly.sort_values(by='Katz Centrality', ascending=False).head(10).reset_index(drop=True)\n",
    "    top_10['Year'] = year\n",
    "    # Simpan hasilnya ke dalam list top_10_users_by_year\n",
    "    top_10_katz_centrality_by_years = pd.concat([top_10_katz_centrality_by_years, top_10])"
   ]
  },
  {
   "cell_type": "code",
   "execution_count": 32,
   "id": "30b5a4f6",
   "metadata": {},
   "outputs": [
    {
     "data": {
      "text/html": [
       "<div>\n",
       "<style scoped>\n",
       "    .dataframe tbody tr th:only-of-type {\n",
       "        vertical-align: middle;\n",
       "    }\n",
       "\n",
       "    .dataframe tbody tr th {\n",
       "        vertical-align: top;\n",
       "    }\n",
       "\n",
       "    .dataframe thead th {\n",
       "        text-align: right;\n",
       "    }\n",
       "</style>\n",
       "<table border=\"1\" class=\"dataframe\">\n",
       "  <thead>\n",
       "    <tr style=\"text-align: right;\">\n",
       "      <th></th>\n",
       "      <th>Node</th>\n",
       "      <th>Katz Centrality</th>\n",
       "      <th>Year</th>\n",
       "    </tr>\n",
       "  </thead>\n",
       "  <tbody>\n",
       "    <tr>\n",
       "      <th>0</th>\n",
       "      <td>Metro_TV</td>\n",
       "      <td>0.022054</td>\n",
       "      <td>2009</td>\n",
       "    </tr>\n",
       "    <tr>\n",
       "      <th>1</th>\n",
       "      <td>tifsembiring</td>\n",
       "      <td>0.021474</td>\n",
       "      <td>2009</td>\n",
       "    </tr>\n",
       "    <tr>\n",
       "      <th>2</th>\n",
       "      <td>ShafiqPontoh</td>\n",
       "      <td>0.021259</td>\n",
       "      <td>2009</td>\n",
       "    </tr>\n",
       "    <tr>\n",
       "      <th>3</th>\n",
       "      <td>vincentrompies</td>\n",
       "      <td>0.021257</td>\n",
       "      <td>2009</td>\n",
       "    </tr>\n",
       "    <tr>\n",
       "      <th>4</th>\n",
       "      <td>FasJuw</td>\n",
       "      <td>0.021243</td>\n",
       "      <td>2009</td>\n",
       "    </tr>\n",
       "    <tr>\n",
       "      <th>...</th>\n",
       "      <td>...</td>\n",
       "      <td>...</td>\n",
       "      <td>...</td>\n",
       "    </tr>\n",
       "    <tr>\n",
       "      <th>5</th>\n",
       "      <td>MahesaTiwi</td>\n",
       "      <td>0.037730</td>\n",
       "      <td>2019</td>\n",
       "    </tr>\n",
       "    <tr>\n",
       "      <th>6</th>\n",
       "      <td>sandiuno</td>\n",
       "      <td>0.036233</td>\n",
       "      <td>2019</td>\n",
       "    </tr>\n",
       "    <tr>\n",
       "      <th>7</th>\n",
       "      <td>GetrichEnts</td>\n",
       "      <td>0.035982</td>\n",
       "      <td>2019</td>\n",
       "    </tr>\n",
       "    <tr>\n",
       "      <th>8</th>\n",
       "      <td>fadlizon</td>\n",
       "      <td>0.035910</td>\n",
       "      <td>2019</td>\n",
       "    </tr>\n",
       "    <tr>\n",
       "      <th>9</th>\n",
       "      <td>ExByb</td>\n",
       "      <td>0.035684</td>\n",
       "      <td>2019</td>\n",
       "    </tr>\n",
       "  </tbody>\n",
       "</table>\n",
       "<p>110 rows × 3 columns</p>\n",
       "</div>"
      ],
      "text/plain": [
       "              Node  Katz Centrality  Year\n",
       "0         Metro_TV         0.022054  2009\n",
       "1     tifsembiring         0.021474  2009\n",
       "2     ShafiqPontoh         0.021259  2009\n",
       "3   vincentrompies         0.021257  2009\n",
       "4           FasJuw         0.021243  2009\n",
       "..             ...              ...   ...\n",
       "5       MahesaTiwi         0.037730  2019\n",
       "6         sandiuno         0.036233  2019\n",
       "7      GetrichEnts         0.035982  2019\n",
       "8         fadlizon         0.035910  2019\n",
       "9            ExByb         0.035684  2019\n",
       "\n",
       "[110 rows x 3 columns]"
      ]
     },
     "execution_count": 32,
     "metadata": {},
     "output_type": "execute_result"
    }
   ],
   "source": [
    "top_10_katz_centrality_by_years"
   ]
  },
  {
   "cell_type": "markdown",
   "id": "8966d926",
   "metadata": {},
   "source": [
    "# Laplacian Centrality (Undirected)"
   ]
  },
  {
   "cell_type": "code",
   "execution_count": 34,
   "id": "68c876b3",
   "metadata": {},
   "outputs": [
    {
     "data": {
      "text/html": [
       "\n",
       "\t\t\t<script type=\"text/javascript\">\n",
       "\t\t\t<!--\n",
       "\t\t\t\t\n",
       "\t\t\t{\n",
       "\t\t\t\tvar element = document.getElementById('NetworKit_script');\n",
       "\t\t\t\tif (element) {\n",
       "\t\t\t\t\telement.parentNode.removeChild(element);\n",
       "\t\t\t\t}\n",
       "\t\t\t\telement = document.createElement('script');\n",
       "\t\t\t\telement.type = 'text/javascript';\n",
       "\t\t\t\telement.innerHTML = 'function NetworKit_pageEmbed(id) { var i, j; var elements; elements = document.getElementById(id).getElementsByClassName(\"Plot\"); for (i=0; i<elements.length; i++) { elements[i].id = id + \"_Plot_\" + i; var data = elements[i].getAttribute(\"data-image\").split(\"|\"); elements[i].removeAttribute(\"data-image\"); var content = \"<div class=\\\\\"Image\\\\\" id=\\\\\"\" + elements[i].id + \"_Image\\\\\" />\"; elements[i].innerHTML = content; elements[i].setAttribute(\"data-image-index\", 0); elements[i].setAttribute(\"data-image-length\", data.length); for (j=0; j<data.length; j++) { elements[i].setAttribute(\"data-image-\" + j, data[j]); } NetworKit_plotUpdate(elements[i]); elements[i].onclick = function (e) { NetworKit_overlayShow((e.target) ? e.target : e.srcElement); } } elements = document.getElementById(id).getElementsByClassName(\"HeatCell\"); for (i=0; i<elements.length; i++) { var data = parseFloat(elements[i].getAttribute(\"data-heat\")); var color = \"#00FF00\"; if (data <= 1 && data > 0) { color = \"hsla(0, 100%, 75%, \" + (data) + \")\"; } else if (data <= 0 && data >= -1) { color = \"hsla(240, 100%, 75%, \" + (-data) + \")\"; } elements[i].style.backgroundColor = color; } elements = document.getElementById(id).getElementsByClassName(\"Details\"); for (i=0; i<elements.length; i++) { elements[i].setAttribute(\"data-title\", \"-\"); NetworKit_toggleDetails(elements[i]); elements[i].onclick = function (e) { NetworKit_toggleDetails((e.target) ? e.target : e.srcElement); } } elements = document.getElementById(id).getElementsByClassName(\"MathValue\"); for (i=elements.length-1; i>=0; i--) { value = elements[i].innerHTML.trim(); if (value === \"nan\") { elements[i].parentNode.innerHTML = \"\" } } elements = document.getElementById(id).getElementsByClassName(\"SubCategory\"); for (i=elements.length-1; i>=0; i--) { value = elements[i].innerHTML.trim(); if (value === \"\") { elements[i].parentNode.removeChild(elements[i]) } } elements = document.getElementById(id).getElementsByClassName(\"Category\"); for (i=elements.length-1; i>=0; i--) { value = elements[i].innerHTML.trim(); if (value === \"\") { elements[i].parentNode.removeChild(elements[i]) } } var isFirefox = false; try { isFirefox = typeof InstallTrigger !== \"undefined\"; } catch (e) {} if (!isFirefox) { alert(\"Currently the function\\'s output is only fully supported by Firefox.\"); } } function NetworKit_plotUpdate(source) { var index = source.getAttribute(\"data-image-index\"); var data = source.getAttribute(\"data-image-\" + index); var image = document.getElementById(source.id + \"_Image\"); image.style.backgroundImage = \"url(\" + data + \")\"; } function NetworKit_showElement(id, show) { var element = document.getElementById(id); element.style.display = (show) ? \"block\" : \"none\"; } function NetworKit_overlayShow(source) { NetworKit_overlayUpdate(source); NetworKit_showElement(\"NetworKit_Overlay\", true); } function NetworKit_overlayUpdate(source) { document.getElementById(\"NetworKit_Overlay_Title\").innerHTML = source.title; var index = source.getAttribute(\"data-image-index\"); var data = source.getAttribute(\"data-image-\" + index); var image = document.getElementById(\"NetworKit_Overlay_Image\"); image.setAttribute(\"data-id\", source.id); image.style.backgroundImage = \"url(\" + data + \")\"; var link = document.getElementById(\"NetworKit_Overlay_Toolbar_Bottom_Save\"); link.href = data; link.download = source.title + \".svg\"; } function NetworKit_overlayImageShift(delta) { var image = document.getElementById(\"NetworKit_Overlay_Image\"); var source = document.getElementById(image.getAttribute(\"data-id\")); var index = parseInt(source.getAttribute(\"data-image-index\")); var length = parseInt(source.getAttribute(\"data-image-length\")); var index = (index+delta) % length; if (index < 0) { index = length + index; } source.setAttribute(\"data-image-index\", index); NetworKit_overlayUpdate(source); } function NetworKit_toggleDetails(source) { var childs = source.children; var show = false; if (source.getAttribute(\"data-title\") == \"-\") { source.setAttribute(\"data-title\", \"+\"); show = false; } else { source.setAttribute(\"data-title\", \"-\"); show = true; } for (i=0; i<childs.length; i++) { if (show) { childs[i].style.display = \"block\"; } else { childs[i].style.display = \"none\"; } } }';\n",
       "\t\t\t\telement.setAttribute('id', 'NetworKit_script');\n",
       "\t\t\t\tdocument.head.appendChild(element);\n",
       "\t\t\t}\n",
       "\t\t\n",
       "\t\t\t\t\n",
       "\t\t\t{\n",
       "\t\t\t\tvar element = document.getElementById('NetworKit_style');\n",
       "\t\t\t\tif (element) {\n",
       "\t\t\t\t\telement.parentNode.removeChild(element);\n",
       "\t\t\t\t}\n",
       "\t\t\t\telement = document.createElement('style');\n",
       "\t\t\t\telement.type = 'text/css';\n",
       "\t\t\t\telement.innerHTML = '.NetworKit_Page { font-family: Arial, Helvetica, sans-serif; font-size: 14px; } .NetworKit_Page .Value:before { font-family: Arial, Helvetica, sans-serif; font-size: 1.05em; content: attr(data-title) \":\"; margin-left: -2.5em; padding-right: 0.5em; } .NetworKit_Page .Details .Value:before { display: block; } .NetworKit_Page .Value { font-family: monospace; white-space: pre; padding-left: 2.5em; white-space: -moz-pre-wrap !important; white-space: -pre-wrap; white-space: -o-pre-wrap; white-space: pre-wrap; word-wrap: break-word; tab-size: 4; -moz-tab-size: 4; } .NetworKit_Page .Category { clear: both; padding-left: 1em; margin-bottom: 1.5em; } .NetworKit_Page .Category:before { content: attr(data-title); font-size: 1.75em; display: block; margin-left: -0.8em; margin-bottom: 0.5em; } .NetworKit_Page .SubCategory { margin-bottom: 1.5em; padding-left: 1em; } .NetworKit_Page .SubCategory:before { font-size: 1.6em; display: block; margin-left: -0.8em; margin-bottom: 0.5em; } .NetworKit_Page .SubCategory[data-title]:before { content: attr(data-title); } .NetworKit_Page .Block { display: block; } .NetworKit_Page .Block:after { content: \".\"; visibility: hidden; display: block; height: 0; clear: both; } .NetworKit_Page .Block .Thumbnail_Overview, .NetworKit_Page .Block .Thumbnail_ScatterPlot { width: 260px; float: left; } .NetworKit_Page .Block .Thumbnail_Overview img, .NetworKit_Page .Block .Thumbnail_ScatterPlot img { width: 260px; } .NetworKit_Page .Block .Thumbnail_Overview:before, .NetworKit_Page .Block .Thumbnail_ScatterPlot:before { display: block; text-align: center; font-weight: bold; } .NetworKit_Page .Block .Thumbnail_Overview:before { content: attr(data-title); } .NetworKit_Page .HeatCell { font-family: \"Courier New\", Courier, monospace; cursor: pointer; } .NetworKit_Page .HeatCell, .NetworKit_Page .HeatCellName { display: inline; padding: 0.1em; margin-right: 2px; background-color: #FFFFFF } .NetworKit_Page .HeatCellName { margin-left: 0.25em; } .NetworKit_Page .HeatCell:before { content: attr(data-heat); display: inline-block; color: #000000; width: 4em; text-align: center; } .NetworKit_Page .Measure { clear: both; } .NetworKit_Page .Measure .Details { cursor: pointer; } .NetworKit_Page .Measure .Details:before { content: \"[\" attr(data-title) \"]\"; display: block; } .NetworKit_Page .Measure .Details .Value { border-left: 1px dotted black; margin-left: 0.4em; padding-left: 3.5em; pointer-events: none; } .NetworKit_Page .Measure .Details .Spacer:before { content: \".\"; opacity: 0.0; pointer-events: none; } .NetworKit_Page .Measure .Plot { width: 440px; height: 440px; cursor: pointer; float: left; margin-left: -0.9em; margin-right: 20px; } .NetworKit_Page .Measure .Plot .Image { background-repeat: no-repeat; background-position: center center; background-size: contain; height: 100%; pointer-events: none; } .NetworKit_Page .Measure .Stat { width: 500px; float: left; } .NetworKit_Page .Measure .Stat .Group { padding-left: 1.25em; margin-bottom: 0.75em; } .NetworKit_Page .Measure .Stat .Group .Title { font-size: 1.1em; display: block; margin-bottom: 0.3em; margin-left: -0.75em; border-right-style: dotted; border-right-width: 1px; border-bottom-style: dotted; border-bottom-width: 1px; background-color: #D0D0D0; padding-left: 0.2em; } .NetworKit_Page .Measure .Stat .Group .List { -webkit-column-count: 3; -moz-column-count: 3; column-count: 3; } .NetworKit_Page .Measure .Stat .Group .List .Entry { position: relative; line-height: 1.75em; } .NetworKit_Page .Measure .Stat .Group .List .Entry[data-tooltip]:before { position: absolute; left: 0; top: -40px; background-color: #808080; color: #ffffff; height: 30px; line-height: 30px; border-radius: 5px; padding: 0 15px; content: attr(data-tooltip); white-space: nowrap; display: none; } .NetworKit_Page .Measure .Stat .Group .List .Entry[data-tooltip]:after { position: absolute; left: 15px; top: -10px; border-top: 7px solid #808080; border-left: 7px solid transparent; border-right: 7px solid transparent; content: \"\"; display: none; } .NetworKit_Page .Measure .Stat .Group .List .Entry[data-tooltip]:hover:after, .NetworKit_Page .Measure .Stat .Group .List .Entry[data-tooltip]:hover:before { display: block; } .NetworKit_Page .Measure .Stat .Group .List .Entry .MathValue { font-family: \"Courier New\", Courier, monospace; } .NetworKit_Page .Measure:after { content: \".\"; visibility: hidden; display: block; height: 0; clear: both; } .NetworKit_Page .PartitionPie { clear: both; } .NetworKit_Page .PartitionPie img { width: 600px; } #NetworKit_Overlay { left: 0px; top: 0px; display: none; position: absolute; width: 100%; height: 100%; background-color: rgba(0,0,0,0.6); z-index: 1000; } #NetworKit_Overlay_Title { position: absolute; color: white; transform: rotate(-90deg); width: 32em; height: 32em; padding-right: 0.5em; padding-top: 0.5em; text-align: right; font-size: 40px; } #NetworKit_Overlay .button { background: white; cursor: pointer; } #NetworKit_Overlay .button:before { size: 13px; display: inline-block; text-align: center; margin-top: 0.5em; margin-bottom: 0.5em; width: 1.5em; height: 1.5em; } #NetworKit_Overlay .icon-close:before { content: \"X\"; } #NetworKit_Overlay .icon-previous:before { content: \"P\"; } #NetworKit_Overlay .icon-next:before { content: \"N\"; } #NetworKit_Overlay .icon-save:before { content: \"S\"; } #NetworKit_Overlay_Toolbar_Top, #NetworKit_Overlay_Toolbar_Bottom { position: absolute; width: 40px; right: 13px; text-align: right; z-index: 1100; } #NetworKit_Overlay_Toolbar_Top { top: 0.5em; } #NetworKit_Overlay_Toolbar_Bottom { Bottom: 0.5em; } #NetworKit_Overlay_ImageContainer { position: absolute; top: 5%; left: 5%; height: 90%; width: 90%; background-repeat: no-repeat; background-position: center center; background-size: contain; } #NetworKit_Overlay_Image { height: 100%; width: 100%; background-repeat: no-repeat; background-position: center center; background-size: contain; }';\n",
       "\t\t\t\telement.setAttribute('id', 'NetworKit_style');\n",
       "\t\t\t\tdocument.head.appendChild(element);\n",
       "\t\t\t}\n",
       "\t\t\n",
       "\t\t\t\t\n",
       "\t\t\t{\n",
       "\t\t\t\tvar element = document.getElementById('NetworKit_Overlay');\n",
       "\t\t\t\tif (element) {\n",
       "\t\t\t\t\telement.parentNode.removeChild(element);\n",
       "\t\t\t\t}\n",
       "\t\t\t\telement = document.createElement('div');\n",
       "\t\t\t\telement.innerHTML = '<div id=\"NetworKit_Overlay_Toolbar_Top\"><div class=\"button icon-close\" id=\"NetworKit_Overlay_Close\" /></div><div id=\"NetworKit_Overlay_Title\" /> <div id=\"NetworKit_Overlay_ImageContainer\"> <div id=\"NetworKit_Overlay_Image\" /> </div> <div id=\"NetworKit_Overlay_Toolbar_Bottom\"> <div class=\"button icon-previous\" onclick=\"NetworKit_overlayImageShift(-1)\" /> <div class=\"button icon-next\" onclick=\"NetworKit_overlayImageShift(1)\" /> <a id=\"NetworKit_Overlay_Toolbar_Bottom_Save\"><div class=\"button icon-save\" /></a> </div>';\n",
       "\t\t\t\telement.setAttribute('id', 'NetworKit_Overlay');\n",
       "\t\t\t\tdocument.body.appendChild(element);\n",
       "\t\t\t\tdocument.getElementById('NetworKit_Overlay_Close').onclick = function (e) {\n",
       "\t\t\t\t\tdocument.getElementById('NetworKit_Overlay').style.display = 'none';\n",
       "\t\t\t\t}\n",
       "\t\t\t}\n",
       "\t\t\n",
       "\t\t\t-->\n",
       "\t\t\t</script>\n",
       "\t\t"
      ]
     },
     "metadata": {},
     "output_type": "display_data"
    }
   ],
   "source": [
    "import networkit as nk"
   ]
  },
  {
   "cell_type": "code",
   "execution_count": 35,
   "id": "142d9354",
   "metadata": {},
   "outputs": [],
   "source": [
    "# Kamus untuk menyimpan hasil sentralitas Katz Centrality untuk setiap tahun\n",
    "nx_to_nks = {}\n",
    "laplacian_centrality_by_years = {}\n",
    "\n",
    "# Loop untuk menghitung sentralitas Laplacian Centrality untuk setiap tahun dari 2009 hingga 2019\n",
    "for year, graph in graphs_by_years.items():\n",
    "    nx_to_nks[year] = nk.nxadapter.nx2nk(graphs_by_years[year])\n",
    "    laplacian_centrality = nk.centrality.LaplacianCentrality(nx_to_nks[year]).run()\n",
    "    laplacian_centrality_by_years[year] = laplacian_centrality"
   ]
  },
  {
   "cell_type": "code",
   "execution_count": 37,
   "id": "0b9edb7e",
   "metadata": {},
   "outputs": [
    {
     "data": {
      "text/html": [
       "<div>\n",
       "<style scoped>\n",
       "    .dataframe tbody tr th:only-of-type {\n",
       "        vertical-align: middle;\n",
       "    }\n",
       "\n",
       "    .dataframe tbody tr th {\n",
       "        vertical-align: top;\n",
       "    }\n",
       "\n",
       "    .dataframe thead th {\n",
       "        text-align: right;\n",
       "    }\n",
       "</style>\n",
       "<table border=\"1\" class=\"dataframe\">\n",
       "  <thead>\n",
       "    <tr style=\"text-align: right;\">\n",
       "      <th></th>\n",
       "      <th>ID</th>\n",
       "      <th>Username</th>\n",
       "      <th>Laplacian Centrality</th>\n",
       "      <th>Year</th>\n",
       "    </tr>\n",
       "  </thead>\n",
       "  <tbody>\n",
       "    <tr>\n",
       "      <th>0</th>\n",
       "      <td>2027.0</td>\n",
       "      <td>Metro_TV</td>\n",
       "      <td>162.0</td>\n",
       "      <td>2009</td>\n",
       "    </tr>\n",
       "    <tr>\n",
       "      <th>1</th>\n",
       "      <td>405.0</td>\n",
       "      <td>tifsembiring</td>\n",
       "      <td>118.0</td>\n",
       "      <td>2009</td>\n",
       "    </tr>\n",
       "    <tr>\n",
       "      <th>2</th>\n",
       "      <td>277.0</td>\n",
       "      <td>ShafiqPontoh</td>\n",
       "      <td>86.0</td>\n",
       "      <td>2009</td>\n",
       "    </tr>\n",
       "    <tr>\n",
       "      <th>3</th>\n",
       "      <td>448.0</td>\n",
       "      <td>ribosa</td>\n",
       "      <td>84.0</td>\n",
       "      <td>2009</td>\n",
       "    </tr>\n",
       "    <tr>\n",
       "      <th>4</th>\n",
       "      <td>523.0</td>\n",
       "      <td>vincentrompies</td>\n",
       "      <td>84.0</td>\n",
       "      <td>2009</td>\n",
       "    </tr>\n",
       "    <tr>\n",
       "      <th>...</th>\n",
       "      <td>...</td>\n",
       "      <td>...</td>\n",
       "      <td>...</td>\n",
       "      <td>...</td>\n",
       "    </tr>\n",
       "    <tr>\n",
       "      <th>105</th>\n",
       "      <td>105.0</td>\n",
       "      <td>AB_1_X_R</td>\n",
       "      <td>722.0</td>\n",
       "      <td>2019</td>\n",
       "    </tr>\n",
       "    <tr>\n",
       "      <th>106</th>\n",
       "      <td>18.0</td>\n",
       "      <td>sandiuno</td>\n",
       "      <td>526.0</td>\n",
       "      <td>2019</td>\n",
       "    </tr>\n",
       "    <tr>\n",
       "      <th>107</th>\n",
       "      <td>20.0</td>\n",
       "      <td>fadlizon</td>\n",
       "      <td>482.0</td>\n",
       "      <td>2019</td>\n",
       "    </tr>\n",
       "    <tr>\n",
       "      <th>108</th>\n",
       "      <td>511.0</td>\n",
       "      <td>SRufamin</td>\n",
       "      <td>398.0</td>\n",
       "      <td>2019</td>\n",
       "    </tr>\n",
       "    <tr>\n",
       "      <th>109</th>\n",
       "      <td>456.0</td>\n",
       "      <td>RizmaWidiono</td>\n",
       "      <td>386.0</td>\n",
       "      <td>2019</td>\n",
       "    </tr>\n",
       "  </tbody>\n",
       "</table>\n",
       "<p>110 rows × 4 columns</p>\n",
       "</div>"
      ],
      "text/plain": [
       "         ID        Username  Laplacian Centrality  Year\n",
       "0    2027.0        Metro_TV                 162.0  2009\n",
       "1     405.0    tifsembiring                 118.0  2009\n",
       "2     277.0    ShafiqPontoh                  86.0  2009\n",
       "3     448.0          ribosa                  84.0  2009\n",
       "4     523.0  vincentrompies                  84.0  2009\n",
       "..      ...             ...                   ...   ...\n",
       "105   105.0        AB_1_X_R                 722.0  2019\n",
       "106    18.0        sandiuno                 526.0  2019\n",
       "107    20.0        fadlizon                 482.0  2019\n",
       "108   511.0        SRufamin                 398.0  2019\n",
       "109   456.0    RizmaWidiono                 386.0  2019\n",
       "\n",
       "[110 rows x 4 columns]"
      ]
     },
     "execution_count": 37,
     "metadata": {},
     "output_type": "execute_result"
    }
   ],
   "source": [
    "# Membuat DataFrame untuk hasil akhir\n",
    "top_10_laplacian_by_years = pd.DataFrame()\n",
    "\n",
    "# Loop untuk setiap tahun dari 2009 hingga 2019\n",
    "for year in range(2009, 2020):\n",
    "    centrality_year = pd.DataFrame(laplacian_centrality_by_years[year].ranking(), columns=['ID', 'Laplacian Centrality'])\n",
    "    index = pd.DataFrame(range(0, 2476), columns=['ID'])\n",
    "    nodes_year = pd.DataFrame(graphs_by_years[year].nodes, columns=['Username'])\n",
    "    nama = pd.concat([index, nodes_year], axis=1)\n",
    "    merged_table = nama.merge(centrality_year, on='ID', how='left')\n",
    "    top_10_laplacian = merged_table.sort_values(by='Laplacian Centrality', ascending=False).head(10)\n",
    "\n",
    "    # Menambahkan kolom tahun ke hasil DataFrame\n",
    "    top_10_laplacian['Year'] = year\n",
    "\n",
    "    # Menggabungkan hasil untuk setiap tahun\n",
    "    top_10_laplacian_by_years = pd.concat([top_10_laplacian_by_years, top_10_laplacian], ignore_index=True)\n",
    "\n",
    "# Menampilkan hasil akhir\n",
    "top_10_laplacian_by_years"
   ]
  },
  {
   "cell_type": "code",
   "execution_count": null,
   "id": "38b301c8",
   "metadata": {},
   "outputs": [],
   "source": []
  }
 ],
 "metadata": {
  "kernelspec": {
   "display_name": "Python 3 (ipykernel)",
   "language": "python",
   "name": "python3"
  },
  "language_info": {
   "codemirror_mode": {
    "name": "ipython",
    "version": 3
   },
   "file_extension": ".py",
   "mimetype": "text/x-python",
   "name": "python",
   "nbconvert_exporter": "python",
   "pygments_lexer": "ipython3",
   "version": "3.8.17"
  }
 },
 "nbformat": 4,
 "nbformat_minor": 5
}
